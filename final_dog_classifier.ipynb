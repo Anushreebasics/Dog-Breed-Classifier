{
  "nbformat": 4,
  "nbformat_minor": 0,
  "metadata": {
    "colab": {
      "provenance": [],
      "authorship_tag": "ABX9TyPclR93oNgl0NByvF8n1U1j",
      "include_colab_link": true
    },
    "kernelspec": {
      "name": "python3",
      "display_name": "Python 3"
    },
    "language_info": {
      "name": "python"
    }
  },
  "cells": [
    {
      "cell_type": "markdown",
      "metadata": {
        "id": "view-in-github",
        "colab_type": "text"
      },
      "source": [
        "<a href=\"https://colab.research.google.com/github/Anushreebasics/Dog-Breed-Classifier/blob/main/final_dog_classifier.ipynb\" target=\"_parent\"><img src=\"https://colab.research.google.com/assets/colab-badge.svg\" alt=\"Open In Colab\"/></a>"
      ]
    },
    {
      "cell_type": "code",
      "execution_count": 1,
      "metadata": {
        "colab": {
          "base_uri": "https://localhost:8080/"
        },
        "id": "-QBZ8Tky1EtI",
        "outputId": "2d460acb-2a57-4e83-bf5f-c1f217c4d270"
      },
      "outputs": [
        {
          "output_type": "stream",
          "name": "stderr",
          "text": [
            "/usr/local/lib/python3.10/dist-packages/torchvision/models/_utils.py:208: UserWarning: The parameter 'pretrained' is deprecated since 0.13 and may be removed in the future, please use 'weights' instead.\n",
            "  warnings.warn(\n",
            "/usr/local/lib/python3.10/dist-packages/torchvision/models/_utils.py:223: UserWarning: Arguments other than a weight enum or `None` for 'weights' are deprecated since 0.13 and may be removed in the future. The current behavior is equivalent to passing `weights=ResNet18_Weights.IMAGENET1K_V1`. You can also use `weights=ResNet18_Weights.DEFAULT` to get the most up-to-date weights.\n",
            "  warnings.warn(msg)\n",
            "Downloading: \"https://download.pytorch.org/models/resnet18-f37072fd.pth\" to /root/.cache/torch/hub/checkpoints/resnet18-f37072fd.pth\n",
            "100%|██████████| 44.7M/44.7M [00:00<00:00, 98.9MB/s]\n",
            "/usr/local/lib/python3.10/dist-packages/torchvision/models/_utils.py:223: UserWarning: Arguments other than a weight enum or `None` for 'weights' are deprecated since 0.13 and may be removed in the future. The current behavior is equivalent to passing `weights=AlexNet_Weights.IMAGENET1K_V1`. You can also use `weights=AlexNet_Weights.DEFAULT` to get the most up-to-date weights.\n",
            "  warnings.warn(msg)\n",
            "Downloading: \"https://download.pytorch.org/models/alexnet-owt-7be5be79.pth\" to /root/.cache/torch/hub/checkpoints/alexnet-owt-7be5be79.pth\n",
            "100%|██████████| 233M/233M [00:01<00:00, 136MB/s]\n",
            "/usr/local/lib/python3.10/dist-packages/torchvision/models/_utils.py:223: UserWarning: Arguments other than a weight enum or `None` for 'weights' are deprecated since 0.13 and may be removed in the future. The current behavior is equivalent to passing `weights=VGG16_Weights.IMAGENET1K_V1`. You can also use `weights=VGG16_Weights.DEFAULT` to get the most up-to-date weights.\n",
            "  warnings.warn(msg)\n",
            "Downloading: \"https://download.pytorch.org/models/vgg16-397923af.pth\" to /root/.cache/torch/hub/checkpoints/vgg16-397923af.pth\n",
            "100%|██████████| 528M/528M [00:08<00:00, 61.7MB/s]\n"
          ]
        }
      ],
      "source": [
        "%run classifier.py"
      ]
    },
    {
      "cell_type": "code",
      "source": [
        "%run check_images.py"
      ],
      "metadata": {
        "colab": {
          "base_uri": "https://localhost:8080/"
        },
        "id": "f742JkLi10lj",
        "outputId": "cc011dc8-7979-4e1f-f72d-bab78575dac3"
      },
      "execution_count": 2,
      "outputs": [
        {
          "output_type": "stream",
          "name": "stderr",
          "text": [
            "/usr/local/lib/python3.10/dist-packages/torchvision/models/_utils.py:208: UserWarning: The parameter 'pretrained' is deprecated since 0.13 and may be removed in the future, please use 'weights' instead.\n",
            "  warnings.warn(\n",
            "/usr/local/lib/python3.10/dist-packages/torchvision/models/_utils.py:223: UserWarning: Arguments other than a weight enum or `None` for 'weights' are deprecated since 0.13 and may be removed in the future. The current behavior is equivalent to passing `weights=ResNet18_Weights.IMAGENET1K_V1`. You can also use `weights=ResNet18_Weights.DEFAULT` to get the most up-to-date weights.\n",
            "  warnings.warn(msg)\n",
            "/usr/local/lib/python3.10/dist-packages/torchvision/models/_utils.py:223: UserWarning: Arguments other than a weight enum or `None` for 'weights' are deprecated since 0.13 and may be removed in the future. The current behavior is equivalent to passing `weights=AlexNet_Weights.IMAGENET1K_V1`. You can also use `weights=AlexNet_Weights.DEFAULT` to get the most up-to-date weights.\n",
            "  warnings.warn(msg)\n",
            "/usr/local/lib/python3.10/dist-packages/torchvision/models/_utils.py:223: UserWarning: Arguments other than a weight enum or `None` for 'weights' are deprecated since 0.13 and may be removed in the future. The current behavior is equivalent to passing `weights=VGG16_Weights.IMAGENET1K_V1`. You can also use `weights=VGG16_Weights.DEFAULT` to get the most up-to-date weights.\n",
            "  warnings.warn(msg)\n"
          ]
        },
        {
          "output_type": "stream",
          "name": "stdout",
          "text": [
            "Command Line Arguments:\n",
            "     dir = pet_images \n",
            "    arch = vgg \n",
            " dogfile = dognames.txt\n",
            "\n",
            "Pet Image Label Dictionary has 40 key-value pairs.\n",
            "Below are 10 of them:\n",
            " 1 key:       Boston_terrier_02285.jpg  label:             boston terrier\n",
            " 2 key:              Basenji_00974.jpg  label:                    basenji\n",
            " 3 key:     Golden_retriever_05182.jpg  label:           golden retriever\n",
            " 4 key:                   gecko_80.jpg  label:                      gecko\n",
            " 5 key:               Poodle_07956.jpg  label:                     poodle\n",
            " 6 key:       Boston_terrier_02259.jpg  label:             boston terrier\n",
            " 7 key:  German_shepherd_dog_04931.jpg  label:        german shepherd dog\n",
            " 8 key:                     cat_02.jpg  label:                        cat\n",
            " 9 key:           Great_dane_05320.jpg  label:                 great dane\n",
            "10 key:  German_shepherd_dog_04890.jpg  label:        german shepherd dog\n",
            "{'Boston_terrier_02285.jpg': ['boston terrier', 'boston bull, boston terrier', 1], 'Basenji_00974.jpg': ['basenji', 'basenji', 1], 'Golden_retriever_05182.jpg': ['golden retriever', 'golden retriever', 1], 'gecko_80.jpg': ['gecko', 'tailed frog, bell toad, ribbed toad, tailed toad, ascaphus trui', 0], 'Poodle_07956.jpg': ['poodle', 'standard poodle, poodle', 1], 'Boston_terrier_02259.jpg': ['boston terrier', 'boston bull, boston terrier', 1], 'German_shepherd_dog_04931.jpg': ['german shepherd dog', 'german shepherd, german shepherd dog, german police dog, alsatian', 1], 'cat_02.jpg': ['cat', 'tabby, tabby cat, cat', 1], 'Great_dane_05320.jpg': ['great dane', 'great dane', 1], 'German_shepherd_dog_04890.jpg': ['german shepherd dog', 'german shepherd, german shepherd dog, german police dog, alsatian', 1], 'skunk_029.jpg': ['skunk', 'skunk, polecat, wood pussy', 1], 'Basenji_00963.jpg': ['basenji', 'basenji', 1], 'Boston_terrier_02303.jpg': ['boston terrier', 'boston bull, boston terrier', 1], 'Miniature_schnauzer_06884.jpg': ['miniature schnauzer', 'miniature schnauzer', 1], 'great_horned_owl_02.jpg': ['great horned owl', 'ruffed grouse, partridge, bonasa umbellus', 0], 'Saint_bernard_08036.jpg': ['saint bernard', 'saint bernard, st bernard', 1], 'Golden_retriever_05223.jpg': ['golden retriever', 'golden retriever', 1], 'cat_01.jpg': ['cat', 'lynx', 0], 'Great_pyrenees_05435.jpg': ['great pyrenees', 'great pyrenees', 1], 'gecko_02.jpg': ['gecko', 'banded gecko, gecko', 1], 'cat_07.jpg': ['cat', 'egyptian cat, cat', 1], 'Poodle_07927.jpg': ['poodle', 'standard poodle, poodle', 1], 'Beagle_01170.jpg': ['beagle', 'walker hound, walker foxhound', 0], 'Beagle_01141.jpg': ['beagle', 'beagle', 1], 'Basset_hound_01034.jpg': ['basset hound', 'basset, basset hound', 1], 'Rabbit_002.jpg': ['rabbit', 'wood rabbit, cottontail, cottontail rabbit, rabbit', 1], 'Golden_retriever_05257.jpg': ['golden retriever', 'golden retriever', 1], 'Dalmatian_04068.jpg': ['dalmatian', 'dalmatian, coach dog, carriage dog', 1], 'polar_bear_04.jpg': ['polar bear', 'ice bear, polar bear, ursus maritimus, thalarctos maritimus', 1], 'Boxer_02426.jpg': ['boxer', 'boxer', 1], 'Dalmatian_04037.jpg': ['dalmatian', 'dalmatian, coach dog, carriage dog', 1], 'fox_squirrel_01.jpg': ['fox squirrel', 'fox squirrel, eastern fox squirrel, sciurus niger', 1], 'Golden_retriever_05195.jpg': ['golden retriever', 'golden retriever', 1], 'Dalmatian_04017.jpg': ['dalmatian', 'dalmatian, coach dog, carriage dog', 1], 'Cocker_spaniel_03750.jpg': ['cocker spaniel', 'cocker spaniel, english cocker spaniel, cocker', 1], 'Saint_bernard_08010.jpg': ['saint bernard', 'saint bernard, st bernard', 1], 'Collie_03797.jpg': ['collie', 'collie', 1], 'German_shorthaired_pointer_04986.jpg': ['german shorthaired pointer', 'german shorthaired pointer', 1], 'Great_pyrenees_05367.jpg': ['great pyrenees', 'kuvasz', 0], 'Beagle_01125.jpg': ['beagle', 'beagle', 1]}\n",
            "\n",
            "     MATCH:\n",
            "\n",
            "      Boston_terrier_02285.jpg: \n",
            "Real:             boston terrier   Classifier:    boston bull, boston terrier\n",
            "\n",
            "             Basenji_00974.jpg: \n",
            "Real:                    basenji   Classifier:                        basenji\n",
            "\n",
            "    Golden_retriever_05182.jpg: \n",
            "Real:           golden retriever   Classifier:               golden retriever\n",
            "\n",
            "              Poodle_07956.jpg: \n",
            "Real:                     poodle   Classifier:        standard poodle, poodle\n",
            "\n",
            "      Boston_terrier_02259.jpg: \n",
            "Real:             boston terrier   Classifier:    boston bull, boston terrier\n",
            "\n",
            " German_shepherd_dog_04931.jpg: \n",
            "Real:        german shepherd dog   Classifier: german shepherd, german shepherd dog, german police dog, alsatian\n",
            "\n",
            "                    cat_02.jpg: \n",
            "Real:                        cat   Classifier:          tabby, tabby cat, cat\n",
            "\n",
            "          Great_dane_05320.jpg: \n",
            "Real:                 great dane   Classifier:                     great dane\n",
            "\n",
            " German_shepherd_dog_04890.jpg: \n",
            "Real:        german shepherd dog   Classifier: german shepherd, german shepherd dog, german police dog, alsatian\n",
            "\n",
            "                 skunk_029.jpg: \n",
            "Real:                      skunk   Classifier:     skunk, polecat, wood pussy\n",
            "\n",
            "             Basenji_00963.jpg: \n",
            "Real:                    basenji   Classifier:                        basenji\n",
            "\n",
            "      Boston_terrier_02303.jpg: \n",
            "Real:             boston terrier   Classifier:    boston bull, boston terrier\n",
            "\n",
            " Miniature_schnauzer_06884.jpg: \n",
            "Real:        miniature schnauzer   Classifier:            miniature schnauzer\n",
            "\n",
            "       Saint_bernard_08036.jpg: \n",
            "Real:              saint bernard   Classifier:      saint bernard, st bernard\n",
            "\n",
            "    Golden_retriever_05223.jpg: \n",
            "Real:           golden retriever   Classifier:               golden retriever\n",
            "\n",
            "      Great_pyrenees_05435.jpg: \n",
            "Real:             great pyrenees   Classifier:                 great pyrenees\n",
            "\n",
            "                  gecko_02.jpg: \n",
            "Real:                      gecko   Classifier:            banded gecko, gecko\n",
            "\n",
            "                    cat_07.jpg: \n",
            "Real:                        cat   Classifier:              egyptian cat, cat\n",
            "\n",
            "              Poodle_07927.jpg: \n",
            "Real:                     poodle   Classifier:        standard poodle, poodle\n",
            "\n",
            "              Beagle_01141.jpg: \n",
            "Real:                     beagle   Classifier:                         beagle\n",
            "\n",
            "        Basset_hound_01034.jpg: \n",
            "Real:               basset hound   Classifier:           basset, basset hound\n",
            "\n",
            "                Rabbit_002.jpg: \n",
            "Real:                     rabbit   Classifier: wood rabbit, cottontail, cottontail rabbit, rabbit\n",
            "\n",
            "    Golden_retriever_05257.jpg: \n",
            "Real:           golden retriever   Classifier:               golden retriever\n",
            "\n",
            "           Dalmatian_04068.jpg: \n",
            "Real:                  dalmatian   Classifier: dalmatian, coach dog, carriage dog\n",
            "\n",
            "             polar_bear_04.jpg: \n",
            "Real:                 polar bear   Classifier: ice bear, polar bear, ursus maritimus, thalarctos maritimus\n",
            "\n",
            "               Boxer_02426.jpg: \n",
            "Real:                      boxer   Classifier:                          boxer\n",
            "\n",
            "           Dalmatian_04037.jpg: \n",
            "Real:                  dalmatian   Classifier: dalmatian, coach dog, carriage dog\n",
            "\n",
            "           fox_squirrel_01.jpg: \n",
            "Real:               fox squirrel   Classifier: fox squirrel, eastern fox squirrel, sciurus niger\n",
            "\n",
            "    Golden_retriever_05195.jpg: \n",
            "Real:           golden retriever   Classifier:               golden retriever\n",
            "\n",
            "           Dalmatian_04017.jpg: \n",
            "Real:                  dalmatian   Classifier: dalmatian, coach dog, carriage dog\n",
            "\n",
            "      Cocker_spaniel_03750.jpg: \n",
            "Real:             cocker spaniel   Classifier: cocker spaniel, english cocker spaniel, cocker\n",
            "\n",
            "       Saint_bernard_08010.jpg: \n",
            "Real:              saint bernard   Classifier:      saint bernard, st bernard\n",
            "\n",
            "              Collie_03797.jpg: \n",
            "Real:                     collie   Classifier:                         collie\n",
            "\n",
            "German_shorthaired_pointer_04986.jpg: \n",
            "Real: german shorthaired pointer   Classifier:     german shorthaired pointer\n",
            "\n",
            "              Beagle_01125.jpg: \n",
            "Real:                     beagle   Classifier:                         beagle\n",
            "\n",
            " NOT A MATCH:\n",
            "\n",
            "                  gecko_80.jpg: \n",
            "Real:                      gecko   Classifier: tailed frog, bell toad, ribbed toad, tailed toad, ascaphus trui\n",
            "\n",
            "       great_horned_owl_02.jpg: \n",
            "Real:           great horned owl   Classifier: ruffed grouse, partridge, bonasa umbellus\n",
            "\n",
            "                    cat_01.jpg: \n",
            "Real:                        cat   Classifier:                           lynx\n",
            "\n",
            "              Beagle_01170.jpg: \n",
            "Real:                     beagle   Classifier:  walker hound, walker foxhound\n",
            "\n",
            "      Great_pyrenees_05367.jpg: \n",
            "Real:             great pyrenees   Classifier:                         kuvasz\n",
            "\n",
            "# Total Images 40 # Matches: 35 # NOT Matches: 5\n",
            "\n",
            "     MATCH:\n",
            "\n",
            "      Boston_terrier_02285.jpg: \n",
            "Real:             boston terrier   Classifier:    boston bull, boston terrier  \n",
            "PetLabelDog: 1  ClassLabelDog: 1\n",
            "\n",
            "             Basenji_00974.jpg: \n",
            "Real:                    basenji   Classifier:                        basenji  \n",
            "PetLabelDog: 1  ClassLabelDog: 1\n",
            "\n",
            "    Golden_retriever_05182.jpg: \n",
            "Real:           golden retriever   Classifier:               golden retriever  \n",
            "PetLabelDog: 1  ClassLabelDog: 1\n",
            "\n",
            "              Poodle_07956.jpg: \n",
            "Real:                     poodle   Classifier:        standard poodle, poodle  \n",
            "PetLabelDog: 1  ClassLabelDog: 1\n",
            "\n",
            "      Boston_terrier_02259.jpg: \n",
            "Real:             boston terrier   Classifier:    boston bull, boston terrier  \n",
            "PetLabelDog: 1  ClassLabelDog: 1\n",
            "\n",
            " German_shepherd_dog_04931.jpg: \n",
            "Real:        german shepherd dog   Classifier: german shepherd, german shepherd dog, german police dog, alsatian  \n",
            "PetLabelDog: 1  ClassLabelDog: 1\n",
            "\n",
            "                    cat_02.jpg: \n",
            "Real:                        cat   Classifier:          tabby, tabby cat, cat  \n",
            "PetLabelDog: 0  ClassLabelDog: 0\n",
            "\n",
            "          Great_dane_05320.jpg: \n",
            "Real:                 great dane   Classifier:                     great dane  \n",
            "PetLabelDog: 1  ClassLabelDog: 1\n",
            "\n",
            " German_shepherd_dog_04890.jpg: \n",
            "Real:        german shepherd dog   Classifier: german shepherd, german shepherd dog, german police dog, alsatian  \n",
            "PetLabelDog: 1  ClassLabelDog: 1\n",
            "\n",
            "                 skunk_029.jpg: \n",
            "Real:                      skunk   Classifier:     skunk, polecat, wood pussy  \n",
            "PetLabelDog: 0  ClassLabelDog: 0\n",
            "\n",
            "             Basenji_00963.jpg: \n",
            "Real:                    basenji   Classifier:                        basenji  \n",
            "PetLabelDog: 1  ClassLabelDog: 1\n",
            "\n",
            "      Boston_terrier_02303.jpg: \n",
            "Real:             boston terrier   Classifier:    boston bull, boston terrier  \n",
            "PetLabelDog: 1  ClassLabelDog: 1\n",
            "\n",
            " Miniature_schnauzer_06884.jpg: \n",
            "Real:        miniature schnauzer   Classifier:            miniature schnauzer  \n",
            "PetLabelDog: 1  ClassLabelDog: 1\n",
            "\n",
            "       Saint_bernard_08036.jpg: \n",
            "Real:              saint bernard   Classifier:      saint bernard, st bernard  \n",
            "PetLabelDog: 1  ClassLabelDog: 1\n",
            "\n",
            "    Golden_retriever_05223.jpg: \n",
            "Real:           golden retriever   Classifier:               golden retriever  \n",
            "PetLabelDog: 1  ClassLabelDog: 1\n",
            "\n",
            "      Great_pyrenees_05435.jpg: \n",
            "Real:             great pyrenees   Classifier:                 great pyrenees  \n",
            "PetLabelDog: 1  ClassLabelDog: 1\n",
            "\n",
            "                  gecko_02.jpg: \n",
            "Real:                      gecko   Classifier:            banded gecko, gecko  \n",
            "PetLabelDog: 0  ClassLabelDog: 0\n",
            "\n",
            "                    cat_07.jpg: \n",
            "Real:                        cat   Classifier:              egyptian cat, cat  \n",
            "PetLabelDog: 0  ClassLabelDog: 0\n",
            "\n",
            "              Poodle_07927.jpg: \n",
            "Real:                     poodle   Classifier:        standard poodle, poodle  \n",
            "PetLabelDog: 1  ClassLabelDog: 1\n",
            "\n",
            "              Beagle_01141.jpg: \n",
            "Real:                     beagle   Classifier:                         beagle  \n",
            "PetLabelDog: 1  ClassLabelDog: 1\n",
            "\n",
            "        Basset_hound_01034.jpg: \n",
            "Real:               basset hound   Classifier:           basset, basset hound  \n",
            "PetLabelDog: 1  ClassLabelDog: 1\n",
            "\n",
            "                Rabbit_002.jpg: \n",
            "Real:                     rabbit   Classifier: wood rabbit, cottontail, cottontail rabbit, rabbit  \n",
            "PetLabelDog: 0  ClassLabelDog: 0\n",
            "\n",
            "    Golden_retriever_05257.jpg: \n",
            "Real:           golden retriever   Classifier:               golden retriever  \n",
            "PetLabelDog: 1  ClassLabelDog: 1\n",
            "\n",
            "           Dalmatian_04068.jpg: \n",
            "Real:                  dalmatian   Classifier: dalmatian, coach dog, carriage dog  \n",
            "PetLabelDog: 1  ClassLabelDog: 1\n",
            "\n",
            "             polar_bear_04.jpg: \n",
            "Real:                 polar bear   Classifier: ice bear, polar bear, ursus maritimus, thalarctos maritimus  \n",
            "PetLabelDog: 0  ClassLabelDog: 0\n",
            "\n",
            "               Boxer_02426.jpg: \n",
            "Real:                      boxer   Classifier:                          boxer  \n",
            "PetLabelDog: 1  ClassLabelDog: 1\n",
            "\n",
            "           Dalmatian_04037.jpg: \n",
            "Real:                  dalmatian   Classifier: dalmatian, coach dog, carriage dog  \n",
            "PetLabelDog: 1  ClassLabelDog: 1\n",
            "\n",
            "           fox_squirrel_01.jpg: \n",
            "Real:               fox squirrel   Classifier: fox squirrel, eastern fox squirrel, sciurus niger  \n",
            "PetLabelDog: 0  ClassLabelDog: 0\n",
            "\n",
            "    Golden_retriever_05195.jpg: \n",
            "Real:           golden retriever   Classifier:               golden retriever  \n",
            "PetLabelDog: 1  ClassLabelDog: 1\n",
            "\n",
            "           Dalmatian_04017.jpg: \n",
            "Real:                  dalmatian   Classifier: dalmatian, coach dog, carriage dog  \n",
            "PetLabelDog: 1  ClassLabelDog: 1\n",
            "\n",
            "      Cocker_spaniel_03750.jpg: \n",
            "Real:             cocker spaniel   Classifier: cocker spaniel, english cocker spaniel, cocker  \n",
            "PetLabelDog: 1  ClassLabelDog: 1\n",
            "\n",
            "       Saint_bernard_08010.jpg: \n",
            "Real:              saint bernard   Classifier:      saint bernard, st bernard  \n",
            "PetLabelDog: 1  ClassLabelDog: 1\n",
            "\n",
            "              Collie_03797.jpg: \n",
            "Real:                     collie   Classifier:                         collie  \n",
            "PetLabelDog: 1  ClassLabelDog: 1\n",
            "\n",
            "German_shorthaired_pointer_04986.jpg: \n",
            "Real: german shorthaired pointer   Classifier:     german shorthaired pointer  \n",
            "PetLabelDog: 1  ClassLabelDog: 1\n",
            "\n",
            "              Beagle_01125.jpg: \n",
            "Real:                     beagle   Classifier:                         beagle  \n",
            "PetLabelDog: 1  ClassLabelDog: 1\n",
            "\n",
            " NOT A MATCH:\n",
            "\n",
            "                  gecko_80.jpg: \n",
            "Real:                      gecko   Classifier: tailed frog, bell toad, ribbed toad, tailed toad, ascaphus trui  \n",
            "PetLabelDog: 0  ClassLabelDog: 0\n",
            "\n",
            "       great_horned_owl_02.jpg: \n",
            "Real:           great horned owl   Classifier: ruffed grouse, partridge, bonasa umbellus  \n",
            "PetLabelDog: 0  ClassLabelDog: 0\n",
            "\n",
            "                    cat_01.jpg: \n",
            "Real:                        cat   Classifier:                           lynx  \n",
            "PetLabelDog: 0  ClassLabelDog: 0\n",
            "\n",
            "              Beagle_01170.jpg: \n",
            "Real:                     beagle   Classifier:  walker hound, walker foxhound  \n",
            "PetLabelDog: 1  ClassLabelDog: 1\n",
            "\n",
            "      Great_pyrenees_05367.jpg: \n",
            "Real:             great pyrenees   Classifier:                         kuvasz  \n",
            "PetLabelDog: 1  ClassLabelDog: 1\n",
            "\n",
            "# Total Images 40 # Matches: 35 # NOT Matches: 5\n",
            "\n",
            " ** Statistics from calculates_results_stats() function:\n",
            "N Images: 40  N Dog Images: 30  N NotDog Images: 10 \n",
            "Pct Corr dog: 100.0 Pct Corr NOTdog: 100.0  Pct Corr Breed:  93.3\n",
            "\n",
            " ** Check Statistics - calculated from this function as a check:\n",
            "N Images: 40  N Dog Images: 30  N NotDog Images: 10 \n",
            "Pct Corr dog: 100.0 Pct Corr NOTdog: 100.0  Pct Corr Breed:  93.3\n",
            "\n",
            "\n",
            "*** Results Summary for CNN Model Architecture VGG ***\n",
            "N Images            :  40\n",
            "N Dog Images        :  30\n",
            "N Not-Dog Images    :  10\n",
            " \n",
            "Percentage of Match : 87.500000\n",
            "Percentage of Correct Dogs : 100.000000\n",
            "Percentage of Correct Breed : 93.333333\n",
            "Percentage of Correct Notdogs : 100.000000\n",
            "\n",
            "INCORRECT Dog Breed Assignment:\n",
            "Real:                     beagle   Classifier:  walker hound, walker foxhound\n",
            "Real:             great pyrenees   Classifier:                         kuvasz\n",
            "\n",
            "** Total Elapsed Runtime: 0:0:25\n"
          ]
        }
      ]
    },
    {
      "cell_type": "code",
      "source": [
        "%run print_results.py"
      ],
      "metadata": {
        "id": "vthBJ21O2Cev"
      },
      "execution_count": 3,
      "outputs": []
    },
    {
      "cell_type": "code",
      "source": [
        "%run get_pet_labels.py"
      ],
      "metadata": {
        "id": "uTrWDBgL3X74"
      },
      "execution_count": 9,
      "outputs": []
    },
    {
      "cell_type": "code",
      "source": [
        "%run test_classifier.py"
      ],
      "metadata": {
        "colab": {
          "base_uri": "https://localhost:8080/"
        },
        "id": "Fa3lLR9F2IpT",
        "outputId": "a3dff135-0f8d-467a-f89e-42a842201f29"
      },
      "execution_count": 4,
      "outputs": [
        {
          "output_type": "stream",
          "name": "stdout",
          "text": [
            "\n",
            "Results from test_classifier.py\n",
            "Image: pet_images/Collie_03797.jpg using model: vgg was classified as a: collie\n"
          ]
        }
      ]
    },
    {
      "cell_type": "code",
      "source": [
        "%run classify_images.py"
      ],
      "metadata": {
        "id": "tlC3uYUI2M9G"
      },
      "execution_count": 7,
      "outputs": []
    },
    {
      "cell_type": "code",
      "source": [
        "%run print_functions_for_lab_checks.py"
      ],
      "metadata": {
        "id": "ctVQIgXu27Wy"
      },
      "execution_count": 8,
      "outputs": []
    },
    {
      "cell_type": "code",
      "source": [
        "!python check_images.py --dir pet_images/ --arch resnet  --dogfile dognames.txt > resnet_pet-images.txt"
      ],
      "metadata": {
        "colab": {
          "base_uri": "https://localhost:8080/"
        },
        "id": "cOPx7KnU5lBa",
        "outputId": "415f7e2a-4367-4c17-db07-a3ad2ecb8735"
      },
      "execution_count": 12,
      "outputs": [
        {
          "output_type": "stream",
          "name": "stdout",
          "text": [
            "/usr/local/lib/python3.10/dist-packages/torchvision/models/_utils.py:208: UserWarning: The parameter 'pretrained' is deprecated since 0.13 and may be removed in the future, please use 'weights' instead.\n",
            "  warnings.warn(\n",
            "/usr/local/lib/python3.10/dist-packages/torchvision/models/_utils.py:223: UserWarning: Arguments other than a weight enum or `None` for 'weights' are deprecated since 0.13 and may be removed in the future. The current behavior is equivalent to passing `weights=ResNet18_Weights.IMAGENET1K_V1`. You can also use `weights=ResNet18_Weights.DEFAULT` to get the most up-to-date weights.\n",
            "  warnings.warn(msg)\n",
            "/usr/local/lib/python3.10/dist-packages/torchvision/models/_utils.py:223: UserWarning: Arguments other than a weight enum or `None` for 'weights' are deprecated since 0.13 and may be removed in the future. The current behavior is equivalent to passing `weights=AlexNet_Weights.IMAGENET1K_V1`. You can also use `weights=AlexNet_Weights.DEFAULT` to get the most up-to-date weights.\n",
            "  warnings.warn(msg)\n",
            "/usr/local/lib/python3.10/dist-packages/torchvision/models/_utils.py:223: UserWarning: Arguments other than a weight enum or `None` for 'weights' are deprecated since 0.13 and may be removed in the future. The current behavior is equivalent to passing `weights=VGG16_Weights.IMAGENET1K_V1`. You can also use `weights=VGG16_Weights.DEFAULT` to get the most up-to-date weights.\n",
            "  warnings.warn(msg)\n"
          ]
        }
      ]
    },
    {
      "cell_type": "code",
      "source": [
        "!python check_images.py --dir pet_images/ --arch alexnet --dogfile dognames.txt > alexnet_pet-images.txt"
      ],
      "metadata": {
        "colab": {
          "base_uri": "https://localhost:8080/"
        },
        "id": "LoKYj9nG6HiI",
        "outputId": "a8c996af-4a10-4f08-97ab-9e2f2e1b7633"
      },
      "execution_count": 13,
      "outputs": [
        {
          "output_type": "stream",
          "name": "stdout",
          "text": [
            "/usr/local/lib/python3.10/dist-packages/torchvision/models/_utils.py:208: UserWarning: The parameter 'pretrained' is deprecated since 0.13 and may be removed in the future, please use 'weights' instead.\n",
            "  warnings.warn(\n",
            "/usr/local/lib/python3.10/dist-packages/torchvision/models/_utils.py:223: UserWarning: Arguments other than a weight enum or `None` for 'weights' are deprecated since 0.13 and may be removed in the future. The current behavior is equivalent to passing `weights=ResNet18_Weights.IMAGENET1K_V1`. You can also use `weights=ResNet18_Weights.DEFAULT` to get the most up-to-date weights.\n",
            "  warnings.warn(msg)\n",
            "/usr/local/lib/python3.10/dist-packages/torchvision/models/_utils.py:223: UserWarning: Arguments other than a weight enum or `None` for 'weights' are deprecated since 0.13 and may be removed in the future. The current behavior is equivalent to passing `weights=AlexNet_Weights.IMAGENET1K_V1`. You can also use `weights=AlexNet_Weights.DEFAULT` to get the most up-to-date weights.\n",
            "  warnings.warn(msg)\n",
            "/usr/local/lib/python3.10/dist-packages/torchvision/models/_utils.py:223: UserWarning: Arguments other than a weight enum or `None` for 'weights' are deprecated since 0.13 and may be removed in the future. The current behavior is equivalent to passing `weights=VGG16_Weights.IMAGENET1K_V1`. You can also use `weights=VGG16_Weights.DEFAULT` to get the most up-to-date weights.\n",
            "  warnings.warn(msg)\n"
          ]
        }
      ]
    },
    {
      "cell_type": "code",
      "source": [
        "!python check_images.py --dir pet_images/ --arch vgg  --dogfile dognames.txt > vgg_pet-images.txt"
      ],
      "metadata": {
        "colab": {
          "base_uri": "https://localhost:8080/"
        },
        "id": "7jt9EK2g6UPY",
        "outputId": "8b342349-08e1-4687-894e-e9a00e1dc97f"
      },
      "execution_count": 16,
      "outputs": [
        {
          "output_type": "stream",
          "name": "stdout",
          "text": [
            "/usr/local/lib/python3.10/dist-packages/torchvision/models/_utils.py:208: UserWarning: The parameter 'pretrained' is deprecated since 0.13 and may be removed in the future, please use 'weights' instead.\n",
            "  warnings.warn(\n",
            "/usr/local/lib/python3.10/dist-packages/torchvision/models/_utils.py:223: UserWarning: Arguments other than a weight enum or `None` for 'weights' are deprecated since 0.13 and may be removed in the future. The current behavior is equivalent to passing `weights=ResNet18_Weights.IMAGENET1K_V1`. You can also use `weights=ResNet18_Weights.DEFAULT` to get the most up-to-date weights.\n",
            "  warnings.warn(msg)\n",
            "/usr/local/lib/python3.10/dist-packages/torchvision/models/_utils.py:223: UserWarning: Arguments other than a weight enum or `None` for 'weights' are deprecated since 0.13 and may be removed in the future. The current behavior is equivalent to passing `weights=AlexNet_Weights.IMAGENET1K_V1`. You can also use `weights=AlexNet_Weights.DEFAULT` to get the most up-to-date weights.\n",
            "  warnings.warn(msg)\n",
            "/usr/local/lib/python3.10/dist-packages/torchvision/models/_utils.py:223: UserWarning: Arguments other than a weight enum or `None` for 'weights' are deprecated since 0.13 and may be removed in the future. The current behavior is equivalent to passing `weights=VGG16_Weights.IMAGENET1K_V1`. You can also use `weights=VGG16_Weights.DEFAULT` to get the most up-to-date weights.\n",
            "  warnings.warn(msg)\n"
          ]
        }
      ]
    },
    {
      "cell_type": "code",
      "source": [
        "!python check_images.py --dir uploaded_images/ --arch resnet  --dogfile dognames.txt > resnet_uploaded-images.txt\n",
        "!python check_images.py --dir uploaded_images/ --arch alexnet --dogfile dognames.txt > alexnet_uploaded-images.txt\n",
        "!python check_images.py --dir uploaded_images/ --arch vgg  --dogfile dognames.txt > vgg_uploaded-images.txt\n"
      ],
      "metadata": {
        "colab": {
          "base_uri": "https://localhost:8080/"
        },
        "id": "X81IfI8g8TjF",
        "outputId": "516d79da-4e25-48fc-a318-ab45fa2aa0ad"
      },
      "execution_count": 17,
      "outputs": [
        {
          "output_type": "stream",
          "name": "stdout",
          "text": [
            "/usr/local/lib/python3.10/dist-packages/torchvision/models/_utils.py:208: UserWarning: The parameter 'pretrained' is deprecated since 0.13 and may be removed in the future, please use 'weights' instead.\n",
            "  warnings.warn(\n",
            "/usr/local/lib/python3.10/dist-packages/torchvision/models/_utils.py:223: UserWarning: Arguments other than a weight enum or `None` for 'weights' are deprecated since 0.13 and may be removed in the future. The current behavior is equivalent to passing `weights=ResNet18_Weights.IMAGENET1K_V1`. You can also use `weights=ResNet18_Weights.DEFAULT` to get the most up-to-date weights.\n",
            "  warnings.warn(msg)\n",
            "/usr/local/lib/python3.10/dist-packages/torchvision/models/_utils.py:223: UserWarning: Arguments other than a weight enum or `None` for 'weights' are deprecated since 0.13 and may be removed in the future. The current behavior is equivalent to passing `weights=AlexNet_Weights.IMAGENET1K_V1`. You can also use `weights=AlexNet_Weights.DEFAULT` to get the most up-to-date weights.\n",
            "  warnings.warn(msg)\n",
            "/usr/local/lib/python3.10/dist-packages/torchvision/models/_utils.py:223: UserWarning: Arguments other than a weight enum or `None` for 'weights' are deprecated since 0.13 and may be removed in the future. The current behavior is equivalent to passing `weights=VGG16_Weights.IMAGENET1K_V1`. You can also use `weights=VGG16_Weights.DEFAULT` to get the most up-to-date weights.\n",
            "  warnings.warn(msg)\n",
            "/usr/local/lib/python3.10/dist-packages/torchvision/models/_utils.py:208: UserWarning: The parameter 'pretrained' is deprecated since 0.13 and may be removed in the future, please use 'weights' instead.\n",
            "  warnings.warn(\n",
            "/usr/local/lib/python3.10/dist-packages/torchvision/models/_utils.py:223: UserWarning: Arguments other than a weight enum or `None` for 'weights' are deprecated since 0.13 and may be removed in the future. The current behavior is equivalent to passing `weights=ResNet18_Weights.IMAGENET1K_V1`. You can also use `weights=ResNet18_Weights.DEFAULT` to get the most up-to-date weights.\n",
            "  warnings.warn(msg)\n",
            "/usr/local/lib/python3.10/dist-packages/torchvision/models/_utils.py:223: UserWarning: Arguments other than a weight enum or `None` for 'weights' are deprecated since 0.13 and may be removed in the future. The current behavior is equivalent to passing `weights=AlexNet_Weights.IMAGENET1K_V1`. You can also use `weights=AlexNet_Weights.DEFAULT` to get the most up-to-date weights.\n",
            "  warnings.warn(msg)\n",
            "/usr/local/lib/python3.10/dist-packages/torchvision/models/_utils.py:223: UserWarning: Arguments other than a weight enum or `None` for 'weights' are deprecated since 0.13 and may be removed in the future. The current behavior is equivalent to passing `weights=VGG16_Weights.IMAGENET1K_V1`. You can also use `weights=VGG16_Weights.DEFAULT` to get the most up-to-date weights.\n",
            "  warnings.warn(msg)\n",
            "/usr/local/lib/python3.10/dist-packages/torchvision/models/_utils.py:208: UserWarning: The parameter 'pretrained' is deprecated since 0.13 and may be removed in the future, please use 'weights' instead.\n",
            "  warnings.warn(\n",
            "/usr/local/lib/python3.10/dist-packages/torchvision/models/_utils.py:223: UserWarning: Arguments other than a weight enum or `None` for 'weights' are deprecated since 0.13 and may be removed in the future. The current behavior is equivalent to passing `weights=ResNet18_Weights.IMAGENET1K_V1`. You can also use `weights=ResNet18_Weights.DEFAULT` to get the most up-to-date weights.\n",
            "  warnings.warn(msg)\n",
            "/usr/local/lib/python3.10/dist-packages/torchvision/models/_utils.py:223: UserWarning: Arguments other than a weight enum or `None` for 'weights' are deprecated since 0.13 and may be removed in the future. The current behavior is equivalent to passing `weights=AlexNet_Weights.IMAGENET1K_V1`. You can also use `weights=AlexNet_Weights.DEFAULT` to get the most up-to-date weights.\n",
            "  warnings.warn(msg)\n",
            "/usr/local/lib/python3.10/dist-packages/torchvision/models/_utils.py:223: UserWarning: Arguments other than a weight enum or `None` for 'weights' are deprecated since 0.13 and may be removed in the future. The current behavior is equivalent to passing `weights=VGG16_Weights.IMAGENET1K_V1`. You can also use `weights=VGG16_Weights.DEFAULT` to get the most up-to-date weights.\n",
            "  warnings.warn(msg)\n"
          ]
        }
      ]
    }
  ]
}